{
 "cells": [
  {
   "cell_type": "markdown",
   "id": "f22f8833",
   "metadata": {},
   "source": [
    "# Welcome to AI Course\n",
    "This is the first coding session using jupyter notebook"
   ]
  },
  {
   "cell_type": "markdown",
   "id": "40de83be",
   "metadata": {},
   "source": [
    "**bold text**"
   ]
  },
  {
   "cell_type": "markdown",
   "id": "8cbc1cd9",
   "metadata": {},
   "source": [
    "<h1 style=\"color:red\"> H1 </h1>\n",
    "<h2> H2 </h2>\n",
    "<h3> H3 </h3>\n",
    "<h4> H4 </h4>\n",
    "<p> this is a paragraph, in markdown cell </p>"
   ]
  },
  {
   "cell_type": "code",
   "execution_count": 10,
   "id": "2c16be0c",
   "metadata": {
    "ExecuteTime": {
     "end_time": "2021-07-17T09:21:24.227476Z",
     "start_time": "2021-07-17T09:21:24.219469Z"
    }
   },
   "outputs": [
    {
     "name": "stdout",
     "output_type": "stream",
     "text": [
      "Anything here will be printed\n"
     ]
    }
   ],
   "source": [
    "print(\"Anything here will be printed\")"
   ]
  },
  {
   "cell_type": "code",
   "execution_count": 11,
   "id": "0af2c95e",
   "metadata": {
    "ExecuteTime": {
     "end_time": "2021-07-17T09:21:39.796693Z",
     "start_time": "2021-07-17T09:21:39.780736Z"
    }
   },
   "outputs": [
    {
     "name": "stdout",
     "output_type": "stream",
     "text": [
      "another print\n"
     ]
    }
   ],
   "source": [
    "print(\"another print\")"
   ]
  },
  {
   "cell_type": "code",
   "execution_count": 16,
   "id": "e80bf5c7",
   "metadata": {
    "ExecuteTime": {
     "end_time": "2021-07-17T09:26:37.020558Z",
     "start_time": "2021-07-17T09:26:37.015572Z"
    }
   },
   "outputs": [],
   "source": [
    "x = 5"
   ]
  },
  {
   "cell_type": "code",
   "execution_count": 17,
   "id": "6114cc1f",
   "metadata": {
    "ExecuteTime": {
     "end_time": "2021-07-17T09:26:42.100488Z",
     "start_time": "2021-07-17T09:26:42.085528Z"
    }
   },
   "outputs": [],
   "source": [
    "x = \"Ahmed\""
   ]
  },
  {
   "cell_type": "code",
   "execution_count": 18,
   "id": "67ffec6c",
   "metadata": {
    "ExecuteTime": {
     "end_time": "2021-07-17T09:27:38.204428Z",
     "start_time": "2021-07-17T09:27:38.192460Z"
    }
   },
   "outputs": [
    {
     "data": {
      "text/plain": [
       "'Ahmed'"
      ]
     },
     "execution_count": 18,
     "metadata": {},
     "output_type": "execute_result"
    }
   ],
   "source": [
    "x"
   ]
  },
  {
   "cell_type": "code",
   "execution_count": 19,
   "id": "3cdd51a2",
   "metadata": {
    "ExecuteTime": {
     "end_time": "2021-07-17T09:28:08.395861Z",
     "start_time": "2021-07-17T09:28:08.382895Z"
    }
   },
   "outputs": [
    {
     "name": "stdout",
     "output_type": "stream",
     "text": [
      "<class 'str'>\n"
     ]
    }
   ],
   "source": [
    "print(type(x))"
   ]
  },
  {
   "cell_type": "code",
   "execution_count": 20,
   "id": "2983dddf",
   "metadata": {
    "ExecuteTime": {
     "end_time": "2021-07-17T09:28:31.782598Z",
     "start_time": "2021-07-17T09:28:31.770604Z"
    }
   },
   "outputs": [
    {
     "name": "stdout",
     "output_type": "stream",
     "text": [
      "<class 'int'>\n"
     ]
    }
   ],
   "source": [
    "x = 5\n",
    "print(type(x))"
   ]
  },
  {
   "cell_type": "code",
   "execution_count": 21,
   "id": "b373ed0e",
   "metadata": {
    "ExecuteTime": {
     "end_time": "2021-07-17T09:31:19.644366Z",
     "start_time": "2021-07-17T09:31:19.639380Z"
    }
   },
   "outputs": [],
   "source": [
    "x = 5 #int ( integer)\n",
    "y = -3.15 # float \n",
    "z = \"Ahmed\"\n",
    "a = True"
   ]
  },
  {
   "cell_type": "code",
   "execution_count": 25,
   "id": "c9ec7130",
   "metadata": {
    "ExecuteTime": {
     "end_time": "2021-07-17T09:32:11.165656Z",
     "start_time": "2021-07-17T09:32:11.149698Z"
    }
   },
   "outputs": [
    {
     "name": "stdout",
     "output_type": "stream",
     "text": [
      "<class 'int'>\n",
      "<class 'float'>\n",
      "<class 'str'>\n",
      "<class 'bool'>\n"
     ]
    }
   ],
   "source": [
    "print(type(x))\n",
    "print(type(y))\n",
    "print(type(z))\n",
    "print(type(a))"
   ]
  },
  {
   "cell_type": "code",
   "execution_count": 29,
   "id": "c6cd1353",
   "metadata": {
    "ExecuteTime": {
     "end_time": "2021-07-17T09:35:18.736493Z",
     "start_time": "2021-07-17T09:35:18.725532Z"
    }
   },
   "outputs": [
    {
     "data": {
      "text/plain": [
       "10"
      ]
     },
     "execution_count": 29,
     "metadata": {},
     "output_type": "execute_result"
    }
   ],
   "source": [
    "5 + 5"
   ]
  },
  {
   "cell_type": "code",
   "execution_count": 30,
   "id": "49abc442",
   "metadata": {
    "ExecuteTime": {
     "end_time": "2021-07-17T09:35:21.096072Z",
     "start_time": "2021-07-17T09:35:21.090068Z"
    }
   },
   "outputs": [
    {
     "data": {
      "text/plain": [
       "0"
      ]
     },
     "execution_count": 30,
     "metadata": {},
     "output_type": "execute_result"
    }
   ],
   "source": [
    "5 - 5"
   ]
  },
  {
   "cell_type": "code",
   "execution_count": 33,
   "id": "e17be5b4",
   "metadata": {
    "ExecuteTime": {
     "end_time": "2021-07-17T09:35:31.985632Z",
     "start_time": "2021-07-17T09:35:31.981643Z"
    }
   },
   "outputs": [
    {
     "data": {
      "text/plain": [
       "25"
      ]
     },
     "execution_count": 33,
     "metadata": {},
     "output_type": "execute_result"
    }
   ],
   "source": [
    "5 * 5"
   ]
  },
  {
   "cell_type": "code",
   "execution_count": 32,
   "id": "d81d8253",
   "metadata": {
    "ExecuteTime": {
     "end_time": "2021-07-17T09:35:25.921409Z",
     "start_time": "2021-07-17T09:35:25.909454Z"
    }
   },
   "outputs": [
    {
     "data": {
      "text/plain": [
       "1.0"
      ]
     },
     "execution_count": 32,
     "metadata": {},
     "output_type": "execute_result"
    }
   ],
   "source": [
    "5 / 5"
   ]
  },
  {
   "cell_type": "code",
   "execution_count": 35,
   "id": "a75610e7",
   "metadata": {
    "ExecuteTime": {
     "end_time": "2021-07-17T09:35:57.233595Z",
     "start_time": "2021-07-17T09:35:57.220630Z"
    }
   },
   "outputs": [
    {
     "data": {
      "text/plain": [
       "8.5"
      ]
     },
     "execution_count": 35,
     "metadata": {},
     "output_type": "execute_result"
    }
   ],
   "source": [
    "x = 5\n",
    "y = 3.5 \n",
    "x+y"
   ]
  },
  {
   "cell_type": "code",
   "execution_count": 36,
   "id": "0f029277",
   "metadata": {
    "ExecuteTime": {
     "end_time": "2021-07-17T09:36:00.500457Z",
     "start_time": "2021-07-17T09:36:00.488489Z"
    }
   },
   "outputs": [
    {
     "data": {
      "text/plain": [
       "1.5"
      ]
     },
     "execution_count": 36,
     "metadata": {},
     "output_type": "execute_result"
    }
   ],
   "source": [
    "x - y"
   ]
  },
  {
   "cell_type": "code",
   "execution_count": 37,
   "id": "29ffa0e6",
   "metadata": {
    "ExecuteTime": {
     "end_time": "2021-07-17T09:36:03.483367Z",
     "start_time": "2021-07-17T09:36:03.479369Z"
    }
   },
   "outputs": [
    {
     "data": {
      "text/plain": [
       "17.5"
      ]
     },
     "execution_count": 37,
     "metadata": {},
     "output_type": "execute_result"
    }
   ],
   "source": [
    "x *y "
   ]
  },
  {
   "cell_type": "code",
   "execution_count": 38,
   "id": "d2c01436",
   "metadata": {
    "ExecuteTime": {
     "end_time": "2021-07-17T09:36:06.250403Z",
     "start_time": "2021-07-17T09:36:06.232450Z"
    }
   },
   "outputs": [
    {
     "data": {
      "text/plain": [
       "1.4285714285714286"
      ]
     },
     "execution_count": 38,
     "metadata": {},
     "output_type": "execute_result"
    }
   ],
   "source": [
    "x / y"
   ]
  },
  {
   "cell_type": "code",
   "execution_count": 41,
   "id": "642eeedb",
   "metadata": {
    "ExecuteTime": {
     "end_time": "2021-07-17T09:36:47.773945Z",
     "start_time": "2021-07-17T09:36:47.757987Z"
    }
   },
   "outputs": [
    {
     "data": {
      "text/plain": [
       "0"
      ]
     },
     "execution_count": 41,
     "metadata": {},
     "output_type": "execute_result"
    }
   ],
   "source": [
    "x * False"
   ]
  },
  {
   "cell_type": "code",
   "execution_count": 42,
   "id": "6c1bacdf",
   "metadata": {
    "ExecuteTime": {
     "end_time": "2021-07-17T09:37:04.991815Z",
     "start_time": "2021-07-17T09:37:04.982838Z"
    }
   },
   "outputs": [
    {
     "data": {
      "text/plain": [
       "4.0"
      ]
     },
     "execution_count": 42,
     "metadata": {},
     "output_type": "execute_result"
    }
   ],
   "source": [
    "20 / 5"
   ]
  },
  {
   "cell_type": "code",
   "execution_count": 43,
   "id": "de3d2064",
   "metadata": {
    "ExecuteTime": {
     "end_time": "2021-07-17T09:37:11.572058Z",
     "start_time": "2021-07-17T09:37:11.560090Z"
    }
   },
   "outputs": [
    {
     "data": {
      "text/plain": [
       "6.666666666666667"
      ]
     },
     "execution_count": 43,
     "metadata": {},
     "output_type": "execute_result"
    }
   ],
   "source": [
    "20/3 "
   ]
  },
  {
   "cell_type": "code",
   "execution_count": 44,
   "id": "804233a0",
   "metadata": {
    "ExecuteTime": {
     "end_time": "2021-07-17T09:37:55.065245Z",
     "start_time": "2021-07-17T09:37:55.060258Z"
    }
   },
   "outputs": [
    {
     "data": {
      "text/plain": [
       "6"
      ]
     },
     "execution_count": 44,
     "metadata": {},
     "output_type": "execute_result"
    }
   ],
   "source": [
    "20 // 3"
   ]
  },
  {
   "cell_type": "code",
   "execution_count": 45,
   "id": "a5974d65",
   "metadata": {
    "ExecuteTime": {
     "end_time": "2021-07-17T09:38:02.887710Z",
     "start_time": "2021-07-17T09:38:02.878736Z"
    }
   },
   "outputs": [
    {
     "data": {
      "text/plain": [
       "2"
      ]
     },
     "execution_count": 45,
     "metadata": {},
     "output_type": "execute_result"
    }
   ],
   "source": [
    "20 % 3 "
   ]
  },
  {
   "cell_type": "code",
   "execution_count": 46,
   "id": "35b5fa0d",
   "metadata": {
    "ExecuteTime": {
     "end_time": "2021-07-17T09:38:36.874203Z",
     "start_time": "2021-07-17T09:38:36.856252Z"
    }
   },
   "outputs": [
    {
     "data": {
      "text/plain": [
       "2"
      ]
     },
     "execution_count": 46,
     "metadata": {},
     "output_type": "execute_result"
    }
   ],
   "source": [
    "20 % 3 "
   ]
  },
  {
   "cell_type": "code",
   "execution_count": 47,
   "id": "e7f1c184",
   "metadata": {
    "ExecuteTime": {
     "end_time": "2021-07-17T09:39:19.827599Z",
     "start_time": "2021-07-17T09:39:19.819620Z"
    }
   },
   "outputs": [
    {
     "data": {
      "text/plain": [
       "24"
      ]
     },
     "execution_count": 47,
     "metadata": {},
     "output_type": "execute_result"
    }
   ],
   "source": [
    "20 + 10 - 3 * + 2 "
   ]
  },
  {
   "cell_type": "code",
   "execution_count": null,
   "id": "01b9c538",
   "metadata": {},
   "outputs": [],
   "source": [
    "1- ()\n",
    "2- power\n",
    "3- * / \n",
    "4- + -"
   ]
  },
  {
   "cell_type": "code",
   "execution_count": 48,
   "id": "ebeac070",
   "metadata": {
    "ExecuteTime": {
     "end_time": "2021-07-17T09:42:53.426954Z",
     "start_time": "2021-07-17T09:42:53.422992Z"
    }
   },
   "outputs": [],
   "source": [
    "x = 3*5 - 2 "
   ]
  },
  {
   "cell_type": "code",
   "execution_count": 49,
   "id": "f7c84298",
   "metadata": {
    "ExecuteTime": {
     "end_time": "2021-07-17T09:42:55.492506Z",
     "start_time": "2021-07-17T09:42:55.478543Z"
    }
   },
   "outputs": [
    {
     "data": {
      "text/plain": [
       "13"
      ]
     },
     "execution_count": 49,
     "metadata": {},
     "output_type": "execute_result"
    }
   ],
   "source": [
    "x"
   ]
  },
  {
   "cell_type": "code",
   "execution_count": 59,
   "id": "f7bd056f",
   "metadata": {
    "ExecuteTime": {
     "end_time": "2021-07-17T09:45:42.968368Z",
     "start_time": "2021-07-17T09:45:42.959392Z"
    }
   },
   "outputs": [
    {
     "data": {
      "text/plain": [
       "False"
      ]
     },
     "execution_count": 59,
     "metadata": {},
     "output_type": "execute_result"
    }
   ],
   "source": [
    "x = \"\"\n",
    "bool(x)"
   ]
  },
  {
   "cell_type": "code",
   "execution_count": 68,
   "id": "6ada9dc9",
   "metadata": {
    "ExecuteTime": {
     "end_time": "2021-07-17T09:50:48.681809Z",
     "start_time": "2021-07-17T09:50:10.079736Z"
    }
   },
   "outputs": [
    {
     "name": "stdout",
     "output_type": "stream",
     "text": [
      "please enter your ID: 1234567f\n"
     ]
    },
    {
     "ename": "ValueError",
     "evalue": "invalid literal for int() with base 10: '1234567f'",
     "output_type": "error",
     "traceback": [
      "\u001b[1;31m---------------------------------------------------------------------------\u001b[0m",
      "\u001b[1;31mValueError\u001b[0m                                Traceback (most recent call last)",
      "\u001b[1;32m<ipython-input-68-f93a05ddd9eb>\u001b[0m in \u001b[0;36m<module>\u001b[1;34m\u001b[0m\n\u001b[1;32m----> 1\u001b[1;33m \u001b[0mx\u001b[0m \u001b[1;33m=\u001b[0m \u001b[0mint\u001b[0m\u001b[1;33m(\u001b[0m\u001b[0minput\u001b[0m\u001b[1;33m(\u001b[0m\u001b[1;34m\"please enter your ID: \"\u001b[0m\u001b[1;33m)\u001b[0m\u001b[1;33m)\u001b[0m\u001b[1;33m\u001b[0m\u001b[1;33m\u001b[0m\u001b[0m\n\u001b[0m",
      "\u001b[1;31mValueError\u001b[0m: invalid literal for int() with base 10: '1234567f'"
     ]
    }
   ],
   "source": [
    "x = int(input(\"please enter your ID: \"))"
   ]
  },
  {
   "cell_type": "code",
   "execution_count": 67,
   "id": "836bfc48",
   "metadata": {
    "ExecuteTime": {
     "end_time": "2021-07-17T09:48:43.817264Z",
     "start_time": "2021-07-17T09:48:43.801307Z"
    }
   },
   "outputs": [
    {
     "data": {
      "text/plain": [
       "int"
      ]
     },
     "execution_count": 67,
     "metadata": {},
     "output_type": "execute_result"
    }
   ],
   "source": [
    "type(x)"
   ]
  },
  {
   "cell_type": "code",
   "execution_count": 74,
   "id": "cfba7338",
   "metadata": {
    "ExecuteTime": {
     "end_time": "2021-07-17T09:53:20.254991Z",
     "start_time": "2021-07-17T09:53:20.243022Z"
    }
   },
   "outputs": [
    {
     "data": {
      "text/plain": [
       "False"
      ]
     },
     "execution_count": 74,
     "metadata": {},
     "output_type": "execute_result"
    }
   ],
   "source": [
    "x = 5\n",
    "x != 5"
   ]
  },
  {
   "cell_type": "code",
   "execution_count": 75,
   "id": "51184e13",
   "metadata": {
    "ExecuteTime": {
     "end_time": "2021-07-17T09:53:54.905766Z",
     "start_time": "2021-07-17T09:53:54.893798Z"
    }
   },
   "outputs": [
    {
     "data": {
      "text/plain": [
       "False"
      ]
     },
     "execution_count": 75,
     "metadata": {},
     "output_type": "execute_result"
    }
   ],
   "source": [
    "5 > 3 < 2 > 1 "
   ]
  },
  {
   "cell_type": "code",
   "execution_count": 77,
   "id": "ae5932f8",
   "metadata": {
    "ExecuteTime": {
     "end_time": "2021-07-17T09:54:42.215312Z",
     "start_time": "2021-07-17T09:54:42.209328Z"
    }
   },
   "outputs": [
    {
     "data": {
      "text/plain": [
       "True"
      ]
     },
     "execution_count": 77,
     "metadata": {},
     "output_type": "execute_result"
    }
   ],
   "source": [
    "3 > 1 or 2 < 5"
   ]
  },
  {
   "cell_type": "code",
   "execution_count": 86,
   "id": "372ba64f",
   "metadata": {
    "ExecuteTime": {
     "end_time": "2021-07-17T10:00:21.904868Z",
     "start_time": "2021-07-17T10:00:21.897887Z"
    }
   },
   "outputs": [
    {
     "name": "stdout",
     "output_type": "stream",
     "text": [
      "3 > 1\n"
     ]
    }
   ],
   "source": [
    "if (3 > 1):\n",
    "    if 3 > 7:\n",
    "        print(\"3 is the best number\")\n",
    "    print(\"3 > 1\")"
   ]
  },
  {
   "cell_type": "code",
   "execution_count": 87,
   "id": "70b44874",
   "metadata": {
    "ExecuteTime": {
     "end_time": "2021-07-17T10:01:52.966120Z",
     "start_time": "2021-07-17T10:01:52.960133Z"
    }
   },
   "outputs": [
    {
     "name": "stdout",
     "output_type": "stream",
     "text": [
      "3 == 3\n"
     ]
    }
   ],
   "source": [
    "if 3 > 3:\n",
    "    print(\"3 > 3\")\n",
    "elif 3 < 3:\n",
    "    print(\"3 < 3\")\n",
    "else:\n",
    "    print(\"3 == 3\")"
   ]
  },
  {
   "cell_type": "code",
   "execution_count": 90,
   "id": "b484bb87",
   "metadata": {
    "ExecuteTime": {
     "end_time": "2021-07-17T10:06:28.325994Z",
     "start_time": "2021-07-17T10:06:24.174397Z"
    }
   },
   "outputs": [
    {
     "name": "stdout",
     "output_type": "stream",
     "text": [
      "please enter your username: Ahmed\n",
      "please enter your password:123\n",
      "login successful :)\n"
     ]
    }
   ],
   "source": [
    "username = \"Ahmed\"\n",
    "password = 123\n",
    "\n",
    "userinput = input(\"please enter your username: \")\n",
    "userpass  = int(input(\"please enter your password:\"))\n",
    "\n",
    "\n",
    "if username == userinput and userpass == password:\n",
    "    print(\"login successful :)\")\n",
    "else:\n",
    "    print(\"em4y yad mn hna\")"
   ]
  },
  {
   "cell_type": "code",
   "execution_count": 92,
   "id": "362ea77b",
   "metadata": {
    "ExecuteTime": {
     "end_time": "2021-07-17T10:52:16.975236Z",
     "start_time": "2021-07-17T10:52:16.963268Z"
    }
   },
   "outputs": [],
   "source": [
    "string = \"ahmed\""
   ]
  },
  {
   "cell_type": "code",
   "execution_count": 95,
   "id": "ced7c6bd",
   "metadata": {
    "ExecuteTime": {
     "end_time": "2021-07-17T10:52:55.240750Z",
     "start_time": "2021-07-17T10:52:55.233768Z"
    }
   },
   "outputs": [],
   "source": [
    "string = string.capitalize()"
   ]
  },
  {
   "cell_type": "code",
   "execution_count": 96,
   "id": "9c06ce00",
   "metadata": {
    "ExecuteTime": {
     "end_time": "2021-07-17T10:52:57.389374Z",
     "start_time": "2021-07-17T10:52:57.380399Z"
    }
   },
   "outputs": [
    {
     "data": {
      "text/plain": [
       "'Ahmed'"
      ]
     },
     "execution_count": 96,
     "metadata": {},
     "output_type": "execute_result"
    }
   ],
   "source": [
    "string"
   ]
  },
  {
   "cell_type": "code",
   "execution_count": 97,
   "id": "7f898f33",
   "metadata": {
    "ExecuteTime": {
     "end_time": "2021-07-17T10:53:09.102490Z",
     "start_time": "2021-07-17T10:53:09.088527Z"
    }
   },
   "outputs": [
    {
     "data": {
      "text/plain": [
       "'AHMED'"
      ]
     },
     "execution_count": 97,
     "metadata": {},
     "output_type": "execute_result"
    }
   ],
   "source": [
    "string.upper()"
   ]
  },
  {
   "cell_type": "code",
   "execution_count": 98,
   "id": "a998d7c1",
   "metadata": {
    "ExecuteTime": {
     "end_time": "2021-07-17T10:53:21.617359Z",
     "start_time": "2021-07-17T10:53:21.603397Z"
    }
   },
   "outputs": [
    {
     "data": {
      "text/plain": [
       "'ahmed'"
      ]
     },
     "execution_count": 98,
     "metadata": {},
     "output_type": "execute_result"
    }
   ],
   "source": [
    "string.lower()"
   ]
  },
  {
   "cell_type": "code",
   "execution_count": 99,
   "id": "5bf06ad4",
   "metadata": {
    "ExecuteTime": {
     "end_time": "2021-07-17T10:54:06.591533Z",
     "start_time": "2021-07-17T10:54:06.578569Z"
    }
   },
   "outputs": [
    {
     "data": {
      "text/plain": [
       "'aHMED'"
      ]
     },
     "execution_count": 99,
     "metadata": {},
     "output_type": "execute_result"
    }
   ],
   "source": [
    "string.swapcase()"
   ]
  },
  {
   "cell_type": "code",
   "execution_count": 100,
   "id": "7495fc49",
   "metadata": {
    "ExecuteTime": {
     "end_time": "2021-07-17T10:54:56.194207Z",
     "start_time": "2021-07-17T10:54:56.189220Z"
    }
   },
   "outputs": [
    {
     "data": {
      "text/plain": [
       "str"
      ]
     },
     "execution_count": 100,
     "metadata": {},
     "output_type": "execute_result"
    }
   ],
   "source": [
    "s = 'a'\n",
    "type(s)"
   ]
  },
  {
   "cell_type": "code",
   "execution_count": 126,
   "id": "28416ce4",
   "metadata": {
    "ExecuteTime": {
     "end_time": "2021-07-17T11:01:38.622001Z",
     "start_time": "2021-07-17T11:01:38.606043Z"
    }
   },
   "outputs": [],
   "source": [
    "string = \"AAAAAhmedddddd\""
   ]
  },
  {
   "cell_type": "code",
   "execution_count": 127,
   "id": "b41660fa",
   "metadata": {
    "ExecuteTime": {
     "end_time": "2021-07-17T11:01:42.029818Z",
     "start_time": "2021-07-17T11:01:42.018848Z"
    }
   },
   "outputs": [
    {
     "data": {
      "text/plain": [
       "'AAAAAhmeaa'"
      ]
     },
     "execution_count": 127,
     "metadata": {},
     "output_type": "execute_result"
    }
   ],
   "source": [
    "string.replace(\"ddd\", \"a\")"
   ]
  },
  {
   "cell_type": "code",
   "execution_count": 124,
   "id": "9ddd73c5",
   "metadata": {
    "ExecuteTime": {
     "end_time": "2021-07-17T11:01:04.093616Z",
     "start_time": "2021-07-17T11:01:04.080652Z"
    }
   },
   "outputs": [
    {
     "data": {
      "text/plain": [
       "'AAAAAhmeddddd'"
      ]
     },
     "execution_count": 124,
     "metadata": {},
     "output_type": "execute_result"
    }
   ],
   "source": [
    "string"
   ]
  },
  {
   "cell_type": "code",
   "execution_count": 130,
   "id": "3dd3df90",
   "metadata": {
    "ExecuteTime": {
     "end_time": "2021-07-17T11:02:14.151847Z",
     "start_time": "2021-07-17T11:02:14.147858Z"
    }
   },
   "outputs": [
    {
     "data": {
      "text/plain": [
       "'m'"
      ]
     },
     "execution_count": 130,
     "metadata": {},
     "output_type": "execute_result"
    }
   ],
   "source": [
    "string[6]"
   ]
  },
  {
   "cell_type": "code",
   "execution_count": 137,
   "id": "e602b050",
   "metadata": {
    "ExecuteTime": {
     "end_time": "2021-07-17T11:05:17.373990Z",
     "start_time": "2021-07-17T11:05:17.360999Z"
    }
   },
   "outputs": [
    {
     "data": {
      "text/plain": [
       "'AAAAAhmedd'"
      ]
     },
     "execution_count": 137,
     "metadata": {},
     "output_type": "execute_result"
    }
   ],
   "source": [
    "string[:-4]"
   ]
  },
  {
   "cell_type": "code",
   "execution_count": 138,
   "id": "71e4abfe",
   "metadata": {
    "ExecuteTime": {
     "end_time": "2021-07-17T11:05:50.310197Z",
     "start_time": "2021-07-17T11:05:50.302219Z"
    }
   },
   "outputs": [
    {
     "data": {
      "text/plain": [
       "'d'"
      ]
     },
     "execution_count": 138,
     "metadata": {},
     "output_type": "execute_result"
    }
   ],
   "source": [
    "string[-1]"
   ]
  },
  {
   "cell_type": "code",
   "execution_count": 147,
   "id": "4aecc389",
   "metadata": {
    "ExecuteTime": {
     "end_time": "2021-07-17T11:11:40.310817Z",
     "start_time": "2021-07-17T11:11:40.300844Z"
    }
   },
   "outputs": [
    {
     "data": {
      "text/plain": [
       "'AAAmddd'"
      ]
     },
     "execution_count": 147,
     "metadata": {},
     "output_type": "execute_result"
    }
   ],
   "source": [
    "string[::2]"
   ]
  },
  {
   "cell_type": "code",
   "execution_count": 148,
   "id": "53f72050",
   "metadata": {
    "ExecuteTime": {
     "end_time": "2021-07-17T11:12:31.293949Z",
     "start_time": "2021-07-17T11:12:31.281981Z"
    }
   },
   "outputs": [
    {
     "data": {
      "text/plain": [
       "False"
      ]
     },
     "execution_count": 148,
     "metadata": {},
     "output_type": "execute_result"
    }
   ],
   "source": [
    "string.isnumeric()"
   ]
  },
  {
   "cell_type": "code",
   "execution_count": 150,
   "id": "b36e3334",
   "metadata": {
    "ExecuteTime": {
     "end_time": "2021-07-17T11:13:47.632834Z",
     "start_time": "2021-07-17T11:13:47.617874Z"
    }
   },
   "outputs": [
    {
     "data": {
      "text/plain": [
       "'ddddddemhAAAAA'"
      ]
     },
     "execution_count": 150,
     "metadata": {},
     "output_type": "execute_result"
    }
   ],
   "source": [
    "string[::-1] #reverse the string"
   ]
  },
  {
   "cell_type": "code",
   "execution_count": 152,
   "id": "db232e36",
   "metadata": {
    "ExecuteTime": {
     "end_time": "2021-07-17T11:14:05.935164Z",
     "start_time": "2021-07-17T11:14:05.923196Z"
    }
   },
   "outputs": [],
   "source": [
    "#eroor"
   ]
  },
  {
   "cell_type": "markdown",
   "id": "10ff14ae",
   "metadata": {},
   "source": [
    "Containers:   \n",
    "1- list  \n",
    "2- tuple     \n",
    "3- dict  \n",
    "4- set "
   ]
  },
  {
   "cell_type": "code",
   "execution_count": 153,
   "id": "018e68ce",
   "metadata": {
    "ExecuteTime": {
     "end_time": "2021-07-17T11:18:00.045911Z",
     "start_time": "2021-07-17T11:18:00.038929Z"
    }
   },
   "outputs": [],
   "source": [
    "x = [ 1,2,3, 3.4 , -3 , True, \"Ahmed\", [1,3] ]"
   ]
  },
  {
   "cell_type": "code",
   "execution_count": 157,
   "id": "d0a55fd8",
   "metadata": {
    "ExecuteTime": {
     "end_time": "2021-07-17T11:18:46.551217Z",
     "start_time": "2021-07-17T11:18:46.545233Z"
    }
   },
   "outputs": [
    {
     "data": {
      "text/plain": [
       "list"
      ]
     },
     "execution_count": 157,
     "metadata": {},
     "output_type": "execute_result"
    }
   ],
   "source": [
    "type(x)"
   ]
  },
  {
   "cell_type": "code",
   "execution_count": 158,
   "id": "8bcb60d0",
   "metadata": {
    "ExecuteTime": {
     "end_time": "2021-07-17T11:18:59.998451Z",
     "start_time": "2021-07-17T11:18:59.982494Z"
    }
   },
   "outputs": [
    {
     "data": {
      "text/plain": [
       "[1, 2, 3, 3.4, -3, True, 'Ahmed', [1, 3], 7]"
      ]
     },
     "execution_count": 158,
     "metadata": {},
     "output_type": "execute_result"
    }
   ],
   "source": [
    "x.append(7)\n",
    "x"
   ]
  },
  {
   "cell_type": "code",
   "execution_count": 159,
   "id": "97988cec",
   "metadata": {
    "ExecuteTime": {
     "end_time": "2021-07-17T11:19:51.632800Z",
     "start_time": "2021-07-17T11:19:51.614847Z"
    }
   },
   "outputs": [
    {
     "data": {
      "text/plain": [
       "[7, 1, 2, 3, 3.4, -3, True, 'Ahmed', [1, 3], 7]"
      ]
     },
     "execution_count": 159,
     "metadata": {},
     "output_type": "execute_result"
    }
   ],
   "source": [
    "x.insert(0, 7)\n",
    "x"
   ]
  },
  {
   "cell_type": "code",
   "execution_count": 160,
   "id": "e27d8184",
   "metadata": {
    "ExecuteTime": {
     "end_time": "2021-07-17T11:20:50.404336Z",
     "start_time": "2021-07-17T11:20:50.391370Z"
    }
   },
   "outputs": [
    {
     "data": {
      "text/plain": [
       "[7, 1, 3, 3.4, -3, True, 'Ahmed', [1, 3], 7]"
      ]
     },
     "execution_count": 160,
     "metadata": {},
     "output_type": "execute_result"
    }
   ],
   "source": [
    "x.remove(2)\n",
    "x"
   ]
  },
  {
   "cell_type": "code",
   "execution_count": 161,
   "id": "31b821ff",
   "metadata": {
    "ExecuteTime": {
     "end_time": "2021-07-17T11:21:06.357726Z",
     "start_time": "2021-07-17T11:21:06.345758Z"
    }
   },
   "outputs": [
    {
     "data": {
      "text/plain": [
       "[7, 1, 3.4, -3, True, 'Ahmed', [1, 3], 7]"
      ]
     },
     "execution_count": 161,
     "metadata": {},
     "output_type": "execute_result"
    }
   ],
   "source": [
    "del x[2]\n",
    "x"
   ]
  },
  {
   "cell_type": "code",
   "execution_count": 162,
   "id": "947ab232",
   "metadata": {
    "ExecuteTime": {
     "end_time": "2021-07-17T11:21:49.857974Z",
     "start_time": "2021-07-17T11:21:49.839988Z"
    }
   },
   "outputs": [
    {
     "data": {
      "text/plain": [
       "'AAAAAhmedddddd'"
      ]
     },
     "execution_count": 162,
     "metadata": {},
     "output_type": "execute_result"
    }
   ],
   "source": [
    "string"
   ]
  },
  {
   "cell_type": "code",
   "execution_count": 165,
   "id": "69fa77b8",
   "metadata": {
    "ExecuteTime": {
     "end_time": "2021-07-17T11:22:49.540805Z",
     "start_time": "2021-07-17T11:22:49.533824Z"
    }
   },
   "outputs": [
    {
     "data": {
      "text/plain": [
       "1"
      ]
     },
     "execution_count": 165,
     "metadata": {},
     "output_type": "execute_result"
    }
   ],
   "source": [
    "x = '1'\n",
    "x = int(x)\n",
    "x"
   ]
  },
  {
   "cell_type": "code",
   "execution_count": 166,
   "id": "3ed4cb2a",
   "metadata": {
    "ExecuteTime": {
     "end_time": "2021-07-17T11:22:55.122624Z",
     "start_time": "2021-07-17T11:22:55.108662Z"
    }
   },
   "outputs": [
    {
     "data": {
      "text/plain": [
       "'AAAAAhmedddddd'"
      ]
     },
     "execution_count": 166,
     "metadata": {},
     "output_type": "execute_result"
    }
   ],
   "source": [
    "string\n"
   ]
  },
  {
   "cell_type": "code",
   "execution_count": 167,
   "id": "3b2337c0",
   "metadata": {
    "ExecuteTime": {
     "end_time": "2021-07-17T11:23:01.535559Z",
     "start_time": "2021-07-17T11:23:01.526584Z"
    }
   },
   "outputs": [],
   "source": [
    "string = list(string)"
   ]
  },
  {
   "cell_type": "code",
   "execution_count": 168,
   "id": "1903b56d",
   "metadata": {
    "ExecuteTime": {
     "end_time": "2021-07-17T11:23:03.966574Z",
     "start_time": "2021-07-17T11:23:03.948622Z"
    }
   },
   "outputs": [
    {
     "data": {
      "text/plain": [
       "['A', 'A', 'A', 'A', 'A', 'h', 'm', 'e', 'd', 'd', 'd', 'd', 'd', 'd']"
      ]
     },
     "execution_count": 168,
     "metadata": {},
     "output_type": "execute_result"
    }
   ],
   "source": [
    "string"
   ]
  },
  {
   "cell_type": "code",
   "execution_count": 169,
   "id": "e4dce3f7",
   "metadata": {
    "ExecuteTime": {
     "end_time": "2021-07-17T11:24:05.184865Z",
     "start_time": "2021-07-17T11:24:05.167910Z"
    }
   },
   "outputs": [],
   "source": [
    "string ='AAAAAhmedddddd'"
   ]
  },
  {
   "cell_type": "code",
   "execution_count": 170,
   "id": "61b65319",
   "metadata": {
    "ExecuteTime": {
     "end_time": "2021-07-17T11:25:02.654843Z",
     "start_time": "2021-07-17T11:25:02.649858Z"
    }
   },
   "outputs": [
    {
     "data": {
      "text/plain": [
       "['AAAAAhmedddddd']"
      ]
     },
     "execution_count": 170,
     "metadata": {},
     "output_type": "execute_result"
    }
   ],
   "source": [
    "newlist = []\n",
    "newlist.append(string)\n",
    "newlist"
   ]
  },
  {
   "cell_type": "code",
   "execution_count": 171,
   "id": "638b3e2d",
   "metadata": {
    "ExecuteTime": {
     "end_time": "2021-07-17T11:25:28.650532Z",
     "start_time": "2021-07-17T11:25:28.636570Z"
    }
   },
   "outputs": [
    {
     "data": {
      "text/plain": [
       "['AAAAAhmedddddd']"
      ]
     },
     "execution_count": 171,
     "metadata": {},
     "output_type": "execute_result"
    }
   ],
   "source": [
    "newlist = [string]\n",
    "newlist"
   ]
  },
  {
   "cell_type": "code",
   "execution_count": 172,
   "id": "6039a45e",
   "metadata": {
    "ExecuteTime": {
     "end_time": "2021-07-17T11:26:07.459112Z",
     "start_time": "2021-07-17T11:26:07.448130Z"
    }
   },
   "outputs": [
    {
     "data": {
      "text/plain": [
       "1"
      ]
     },
     "execution_count": 172,
     "metadata": {},
     "output_type": "execute_result"
    }
   ],
   "source": [
    "x"
   ]
  },
  {
   "cell_type": "code",
   "execution_count": 177,
   "id": "5a887f4a",
   "metadata": {
    "ExecuteTime": {
     "end_time": "2021-07-17T11:27:48.836554Z",
     "start_time": "2021-07-17T11:27:48.833561Z"
    }
   },
   "outputs": [],
   "source": [
    "x = [ 1,2,3, 3.4 , -3 , True, \"Ahmed\", [1,3] ]"
   ]
  },
  {
   "cell_type": "code",
   "execution_count": 174,
   "id": "a718c334",
   "metadata": {
    "ExecuteTime": {
     "end_time": "2021-07-17T11:27:00.601432Z",
     "start_time": "2021-07-17T11:27:00.593453Z"
    }
   },
   "outputs": [
    {
     "data": {
      "text/plain": [
       "[1, 2, 3, 3.4, -3, True, 'Ahmed']"
      ]
     },
     "execution_count": 174,
     "metadata": {},
     "output_type": "execute_result"
    }
   ],
   "source": [
    "x.pop()\n",
    "x"
   ]
  },
  {
   "cell_type": "code",
   "execution_count": 175,
   "id": "a6ef6fb0",
   "metadata": {
    "ExecuteTime": {
     "end_time": "2021-07-17T11:27:41.606106Z",
     "start_time": "2021-07-17T11:27:41.594139Z"
    }
   },
   "outputs": [],
   "source": [
    "x.clear()"
   ]
  },
  {
   "cell_type": "code",
   "execution_count": 178,
   "id": "af73d3fb",
   "metadata": {
    "ExecuteTime": {
     "end_time": "2021-07-17T11:29:52.144457Z",
     "start_time": "2021-07-17T11:29:52.128499Z"
    }
   },
   "outputs": [
    {
     "data": {
      "text/plain": [
       "[1, 2, 3, 3.4, -3, True, 'Ahmed', [1, 3]]"
      ]
     },
     "execution_count": 178,
     "metadata": {},
     "output_type": "execute_result"
    }
   ],
   "source": [
    "x"
   ]
  },
  {
   "cell_type": "code",
   "execution_count": 182,
   "id": "be65cd83",
   "metadata": {
    "ExecuteTime": {
     "end_time": "2021-07-17T11:31:02.791322Z",
     "start_time": "2021-07-17T11:31:02.774341Z"
    }
   },
   "outputs": [
    {
     "data": {
      "text/plain": [
       "1"
      ]
     },
     "execution_count": 182,
     "metadata": {},
     "output_type": "execute_result"
    }
   ],
   "source": [
    "x[-1][0]"
   ]
  },
  {
   "cell_type": "code",
   "execution_count": 185,
   "id": "ddb15572",
   "metadata": {
    "ExecuteTime": {
     "end_time": "2021-07-17T11:31:44.774183Z",
     "start_time": "2021-07-17T11:31:44.762216Z"
    }
   },
   "outputs": [],
   "source": [
    "x.reverse()"
   ]
  },
  {
   "cell_type": "code",
   "execution_count": 186,
   "id": "608e5c51",
   "metadata": {
    "ExecuteTime": {
     "end_time": "2021-07-17T11:31:45.096232Z",
     "start_time": "2021-07-17T11:31:45.081272Z"
    }
   },
   "outputs": [
    {
     "data": {
      "text/plain": [
       "[1, 2, 3, 3.4, -3, True, 'Ahmed', [1, 3]]"
      ]
     },
     "execution_count": 186,
     "metadata": {},
     "output_type": "execute_result"
    }
   ],
   "source": [
    "x"
   ]
  },
  {
   "cell_type": "code",
   "execution_count": 187,
   "id": "e3a914b0",
   "metadata": {
    "ExecuteTime": {
     "end_time": "2021-07-17T11:32:24.061183Z",
     "start_time": "2021-07-17T11:32:24.041236Z"
    }
   },
   "outputs": [
    {
     "ename": "TypeError",
     "evalue": "'<' not supported between instances of 'str' and 'int'",
     "output_type": "error",
     "traceback": [
      "\u001b[1;31m---------------------------------------------------------------------------\u001b[0m",
      "\u001b[1;31mTypeError\u001b[0m                                 Traceback (most recent call last)",
      "\u001b[1;32m<ipython-input-187-5edff3203de0>\u001b[0m in \u001b[0;36m<module>\u001b[1;34m\u001b[0m\n\u001b[1;32m----> 1\u001b[1;33m \u001b[0mx\u001b[0m\u001b[1;33m.\u001b[0m\u001b[0msort\u001b[0m\u001b[1;33m(\u001b[0m\u001b[1;33m)\u001b[0m\u001b[1;33m\u001b[0m\u001b[1;33m\u001b[0m\u001b[0m\n\u001b[0m",
      "\u001b[1;31mTypeError\u001b[0m: '<' not supported between instances of 'str' and 'int'"
     ]
    }
   ],
   "source": [
    "x.sort()"
   ]
  },
  {
   "cell_type": "code",
   "execution_count": 189,
   "id": "ef4bf065",
   "metadata": {
    "ExecuteTime": {
     "end_time": "2021-07-17T11:33:02.955470Z",
     "start_time": "2021-07-17T11:33:02.941517Z"
    }
   },
   "outputs": [
    {
     "ename": "TypeError",
     "evalue": "'<' not supported between instances of 'str' and 'int'",
     "output_type": "error",
     "traceback": [
      "\u001b[1;31m---------------------------------------------------------------------------\u001b[0m",
      "\u001b[1;31mTypeError\u001b[0m                                 Traceback (most recent call last)",
      "\u001b[1;32m<ipython-input-189-3250748d850b>\u001b[0m in \u001b[0;36m<module>\u001b[1;34m\u001b[0m\n\u001b[0;32m      1\u001b[0m \u001b[0mx\u001b[0m \u001b[1;33m=\u001b[0m \u001b[1;33m[\u001b[0m\u001b[1;36m1\u001b[0m\u001b[1;33m,\u001b[0m\u001b[1;36m4\u001b[0m\u001b[1;33m,\u001b[0m\u001b[1;36m3\u001b[0m\u001b[1;33m,\u001b[0m\u001b[1;36m2\u001b[0m\u001b[1;33m,\u001b[0m\u001b[1;36m1\u001b[0m\u001b[1;33m,\u001b[0m\u001b[1;36m6\u001b[0m\u001b[1;33m,\u001b[0m\u001b[1;36m7\u001b[0m\u001b[1;33m,\u001b[0m \u001b[1;34m'3'\u001b[0m\u001b[1;33m]\u001b[0m\u001b[1;33m\u001b[0m\u001b[1;33m\u001b[0m\u001b[0m\n\u001b[1;32m----> 2\u001b[1;33m \u001b[0mx\u001b[0m\u001b[1;33m.\u001b[0m\u001b[0msort\u001b[0m\u001b[1;33m(\u001b[0m\u001b[1;33m)\u001b[0m\u001b[1;33m\u001b[0m\u001b[1;33m\u001b[0m\u001b[0m\n\u001b[0m\u001b[0;32m      3\u001b[0m \u001b[0mx\u001b[0m\u001b[1;33m\u001b[0m\u001b[1;33m\u001b[0m\u001b[0m\n",
      "\u001b[1;31mTypeError\u001b[0m: '<' not supported between instances of 'str' and 'int'"
     ]
    }
   ],
   "source": [
    "x = [1,4,3,2,1,6,7, '3']\n",
    "x.sort()\n",
    "x"
   ]
  },
  {
   "cell_type": "code",
   "execution_count": 193,
   "id": "1006235b",
   "metadata": {
    "ExecuteTime": {
     "end_time": "2021-07-17T11:36:10.055840Z",
     "start_time": "2021-07-17T11:36:10.048859Z"
    }
   },
   "outputs": [
    {
     "data": {
      "text/plain": [
       "['1', 'Mohamed', 'Zaki', 'ali']"
      ]
     },
     "execution_count": 193,
     "metadata": {},
     "output_type": "execute_result"
    }
   ],
   "source": [
    "x = [\"Zaki\", \"ali\", \"Mohamed\", \"1\"]\n",
    "x.sort()\n",
    "x"
   ]
  },
  {
   "cell_type": "code",
   "execution_count": 194,
   "id": "2fb15417",
   "metadata": {
    "ExecuteTime": {
     "end_time": "2021-07-17T11:37:02.262831Z",
     "start_time": "2021-07-17T11:37:02.252858Z"
    }
   },
   "outputs": [
    {
     "data": {
      "text/plain": [
       "'AAAAAhmedddddd'"
      ]
     },
     "execution_count": 194,
     "metadata": {},
     "output_type": "execute_result"
    }
   ],
   "source": [
    "string "
   ]
  },
  {
   "cell_type": "code",
   "execution_count": 195,
   "id": "7809691f",
   "metadata": {
    "ExecuteTime": {
     "end_time": "2021-07-17T11:37:08.060665Z",
     "start_time": "2021-07-17T11:37:08.048697Z"
    }
   },
   "outputs": [
    {
     "ename": "TypeError",
     "evalue": "'str' object doesn't support item deletion",
     "output_type": "error",
     "traceback": [
      "\u001b[1;31m---------------------------------------------------------------------------\u001b[0m",
      "\u001b[1;31mTypeError\u001b[0m                                 Traceback (most recent call last)",
      "\u001b[1;32m<ipython-input-195-8cbe87bb5f0a>\u001b[0m in \u001b[0;36m<module>\u001b[1;34m\u001b[0m\n\u001b[1;32m----> 1\u001b[1;33m \u001b[1;32mdel\u001b[0m \u001b[0mstring\u001b[0m\u001b[1;33m[\u001b[0m\u001b[1;36m0\u001b[0m\u001b[1;33m]\u001b[0m\u001b[1;33m\u001b[0m\u001b[1;33m\u001b[0m\u001b[0m\n\u001b[0m",
      "\u001b[1;31mTypeError\u001b[0m: 'str' object doesn't support item deletion"
     ]
    }
   ],
   "source": [
    "del string[0]"
   ]
  },
  {
   "cell_type": "code",
   "execution_count": 212,
   "id": "ffa48dfb",
   "metadata": {
    "ExecuteTime": {
     "end_time": "2021-07-17T11:42:15.763451Z",
     "start_time": "2021-07-17T11:42:15.758464Z"
    }
   },
   "outputs": [],
   "source": [
    "names = \"AhmedvMohamedvAli\""
   ]
  },
  {
   "cell_type": "code",
   "execution_count": 219,
   "id": "3ee4cf3e",
   "metadata": {
    "ExecuteTime": {
     "end_time": "2021-07-17T11:43:14.896987Z",
     "start_time": "2021-07-17T11:43:14.881031Z"
    }
   },
   "outputs": [],
   "source": [
    "newlist= names.split(\"v\",2)"
   ]
  },
  {
   "cell_type": "code",
   "execution_count": 220,
   "id": "8673b43a",
   "metadata": {
    "ExecuteTime": {
     "end_time": "2021-07-17T11:43:15.173079Z",
     "start_time": "2021-07-17T11:43:15.157123Z"
    }
   },
   "outputs": [
    {
     "data": {
      "text/plain": [
       "['Ahmed', 'Mohamed', 'Ali']"
      ]
     },
     "execution_count": 220,
     "metadata": {},
     "output_type": "execute_result"
    }
   ],
   "source": [
    "newlist"
   ]
  },
  {
   "cell_type": "code",
   "execution_count": 222,
   "id": "df3e10e5",
   "metadata": {
    "ExecuteTime": {
     "end_time": "2021-07-17T11:50:48.890132Z",
     "start_time": "2021-07-17T11:50:48.875172Z"
    }
   },
   "outputs": [
    {
     "name": "stdout",
     "output_type": "stream",
     "text": [
      "5\n"
     ]
    }
   ],
   "source": [
    "print(5)"
   ]
  },
  {
   "cell_type": "code",
   "execution_count": 223,
   "id": "209029bb",
   "metadata": {
    "ExecuteTime": {
     "end_time": "2021-07-17T11:51:59.699264Z",
     "start_time": "2021-07-17T11:51:59.691286Z"
    }
   },
   "outputs": [],
   "source": [
    "x= [\n",
    "    [1,2,3],\n",
    "    [4,5,6],\n",
    "    [7,8,9]\n",
    "]"
   ]
  },
  {
   "cell_type": "code",
   "execution_count": 224,
   "id": "e0a8f2b4",
   "metadata": {
    "ExecuteTime": {
     "end_time": "2021-07-17T11:52:03.695262Z",
     "start_time": "2021-07-17T11:52:03.685289Z"
    }
   },
   "outputs": [
    {
     "data": {
      "text/plain": [
       "[[1, 2, 3], [4, 5, 6], [7, 8, 9]]"
      ]
     },
     "execution_count": 224,
     "metadata": {},
     "output_type": "execute_result"
    }
   ],
   "source": [
    "x"
   ]
  },
  {
   "cell_type": "code",
   "execution_count": 228,
   "id": "f0a73f66",
   "metadata": {
    "ExecuteTime": {
     "end_time": "2021-07-17T11:53:21.026836Z",
     "start_time": "2021-07-17T11:53:21.010879Z"
    }
   },
   "outputs": [],
   "source": [
    "x = [\"Zaki\", \"ali\", \"Mohamed\", \"1\"]"
   ]
  },
  {
   "cell_type": "code",
   "execution_count": 226,
   "id": "eddb6eaf",
   "metadata": {
    "ExecuteTime": {
     "end_time": "2021-07-17T11:52:57.208180Z",
     "start_time": "2021-07-17T11:52:57.196213Z"
    }
   },
   "outputs": [],
   "source": [
    "del x"
   ]
  },
  {
   "cell_type": "code",
   "execution_count": 229,
   "id": "1d0dee03",
   "metadata": {
    "ExecuteTime": {
     "end_time": "2021-07-17T11:53:24.545305Z",
     "start_time": "2021-07-17T11:53:24.540318Z"
    }
   },
   "outputs": [
    {
     "data": {
      "text/plain": [
       "['Zaki', 'ali', 'Mohamed', '1']"
      ]
     },
     "execution_count": 229,
     "metadata": {},
     "output_type": "execute_result"
    }
   ],
   "source": [
    "x"
   ]
  },
  {
   "cell_type": "code",
   "execution_count": 231,
   "id": "a5df9c2f",
   "metadata": {
    "ExecuteTime": {
     "end_time": "2021-07-17T11:53:52.886663Z",
     "start_time": "2021-07-17T11:53:52.870706Z"
    }
   },
   "outputs": [],
   "source": [
    "x[0] = 1"
   ]
  },
  {
   "cell_type": "code",
   "execution_count": 232,
   "id": "d40ee2ae",
   "metadata": {
    "ExecuteTime": {
     "end_time": "2021-07-17T11:53:58.451494Z",
     "start_time": "2021-07-17T11:53:58.438529Z"
    }
   },
   "outputs": [
    {
     "data": {
      "text/plain": [
       "[1, 'ali', 'Mohamed', '1']"
      ]
     },
     "execution_count": 232,
     "metadata": {},
     "output_type": "execute_result"
    }
   ],
   "source": [
    "x"
   ]
  },
  {
   "cell_type": "code",
   "execution_count": 233,
   "id": "4d83e7d7",
   "metadata": {
    "ExecuteTime": {
     "end_time": "2021-07-17T11:54:37.013109Z",
     "start_time": "2021-07-17T11:54:37.003138Z"
    }
   },
   "outputs": [
    {
     "data": {
      "text/plain": [
       "[1, 3, 4, [12, 3, 54]]"
      ]
     },
     "execution_count": 233,
     "metadata": {},
     "output_type": "execute_result"
    }
   ],
   "source": [
    "x = [1,3,4,[1,3,54]]\n",
    "x[3][0] = 12\n",
    "x"
   ]
  },
  {
   "cell_type": "code",
   "execution_count": 250,
   "id": "2cf3fde9",
   "metadata": {
    "ExecuteTime": {
     "end_time": "2021-07-17T12:00:36.889485Z",
     "start_time": "2021-07-17T12:00:36.872530Z"
    }
   },
   "outputs": [],
   "source": [
    "x = ( 1, 3, 4 , 5, [1,23])"
   ]
  },
  {
   "cell_type": "code",
   "execution_count": 244,
   "id": "147f2ca7",
   "metadata": {
    "ExecuteTime": {
     "end_time": "2021-07-17T11:58:39.685687Z",
     "start_time": "2021-07-17T11:58:39.673720Z"
    }
   },
   "outputs": [
    {
     "ename": "TypeError",
     "evalue": "'tuple' object does not support item assignment",
     "output_type": "error",
     "traceback": [
      "\u001b[1;31m---------------------------------------------------------------------------\u001b[0m",
      "\u001b[1;31mTypeError\u001b[0m                                 Traceback (most recent call last)",
      "\u001b[1;32m<ipython-input-244-16211aa724f3>\u001b[0m in \u001b[0;36m<module>\u001b[1;34m\u001b[0m\n\u001b[1;32m----> 1\u001b[1;33m \u001b[0mx\u001b[0m\u001b[1;33m[\u001b[0m\u001b[1;33m-\u001b[0m\u001b[1;36m1\u001b[0m\u001b[1;33m]\u001b[0m\u001b[1;33m=\u001b[0m \u001b[1;36m2\u001b[0m\u001b[1;33m\u001b[0m\u001b[1;33m\u001b[0m\u001b[0m\n\u001b[0m",
      "\u001b[1;31mTypeError\u001b[0m: 'tuple' object does not support item assignment"
     ]
    }
   ],
   "source": [
    "x[-1]= 2"
   ]
  },
  {
   "cell_type": "code",
   "execution_count": 241,
   "id": "cab1b34c",
   "metadata": {
    "ExecuteTime": {
     "end_time": "2021-07-17T11:57:04.494591Z",
     "start_time": "2021-07-17T11:57:04.482623Z"
    }
   },
   "outputs": [
    {
     "data": {
      "text/plain": [
       "(1, 3, 4, 5, [4, 23])"
      ]
     },
     "execution_count": 241,
     "metadata": {},
     "output_type": "execute_result"
    }
   ],
   "source": [
    "x"
   ]
  },
  {
   "cell_type": "code",
   "execution_count": 245,
   "id": "ad7adfa0",
   "metadata": {
    "ExecuteTime": {
     "end_time": "2021-07-17T11:59:12.874389Z",
     "start_time": "2021-07-17T11:59:12.862420Z"
    }
   },
   "outputs": [
    {
     "ename": "TypeError",
     "evalue": "'tuple' object doesn't support item deletion",
     "output_type": "error",
     "traceback": [
      "\u001b[1;31m---------------------------------------------------------------------------\u001b[0m",
      "\u001b[1;31mTypeError\u001b[0m                                 Traceback (most recent call last)",
      "\u001b[1;32m<ipython-input-245-ec9e6e663ef5>\u001b[0m in \u001b[0;36m<module>\u001b[1;34m\u001b[0m\n\u001b[1;32m----> 1\u001b[1;33m \u001b[1;32mdel\u001b[0m \u001b[0mx\u001b[0m\u001b[1;33m[\u001b[0m\u001b[1;36m0\u001b[0m\u001b[1;33m]\u001b[0m\u001b[1;33m\u001b[0m\u001b[1;33m\u001b[0m\u001b[0m\n\u001b[0m",
      "\u001b[1;31mTypeError\u001b[0m: 'tuple' object doesn't support item deletion"
     ]
    }
   ],
   "source": [
    "del x[0]"
   ]
  },
  {
   "cell_type": "code",
   "execution_count": 260,
   "id": "a837f7ac",
   "metadata": {
    "ExecuteTime": {
     "end_time": "2021-07-17T12:02:46.780559Z",
     "start_time": "2021-07-17T12:02:46.768591Z"
    }
   },
   "outputs": [
    {
     "ename": "TypeError",
     "evalue": "can only concatenate tuple (not \"int\") to tuple",
     "output_type": "error",
     "traceback": [
      "\u001b[1;31m---------------------------------------------------------------------------\u001b[0m",
      "\u001b[1;31mTypeError\u001b[0m                                 Traceback (most recent call last)",
      "\u001b[1;32m<ipython-input-260-25461e539aca>\u001b[0m in \u001b[0;36m<module>\u001b[1;34m\u001b[0m\n\u001b[1;32m----> 1\u001b[1;33m \u001b[0mx\u001b[0m \u001b[1;33m=\u001b[0m \u001b[0mx\u001b[0m \u001b[1;33m+\u001b[0m \u001b[1;33m(\u001b[0m\u001b[1;33m(\u001b[0m\u001b[1;36m2\u001b[0m\u001b[1;33m)\u001b[0m\u001b[1;33m)\u001b[0m\u001b[1;33m\u001b[0m\u001b[1;33m\u001b[0m\u001b[0m\n\u001b[0m",
      "\u001b[1;31mTypeError\u001b[0m: can only concatenate tuple (not \"int\") to tuple"
     ]
    }
   ],
   "source": [
    "x = x + ((2))"
   ]
  },
  {
   "cell_type": "code",
   "execution_count": 259,
   "id": "8691565f",
   "metadata": {
    "ExecuteTime": {
     "end_time": "2021-07-17T12:02:17.654278Z",
     "start_time": "2021-07-17T12:02:17.639317Z"
    }
   },
   "outputs": [
    {
     "data": {
      "text/plain": [
       "(1, 3, 4, 5, [1, 23], 2, 4, 2)"
      ]
     },
     "execution_count": 259,
     "metadata": {},
     "output_type": "execute_result"
    }
   ],
   "source": [
    "x"
   ]
  },
  {
   "cell_type": "code",
   "execution_count": 255,
   "id": "7fd82e99",
   "metadata": {
    "ExecuteTime": {
     "end_time": "2021-07-17T12:01:35.139165Z",
     "start_time": "2021-07-17T12:01:35.126199Z"
    }
   },
   "outputs": [],
   "source": [
    "a = 3\n",
    "a +=2 "
   ]
  },
  {
   "cell_type": "code",
   "execution_count": 256,
   "id": "fb7e5dd2",
   "metadata": {
    "ExecuteTime": {
     "end_time": "2021-07-17T12:01:35.525004Z",
     "start_time": "2021-07-17T12:01:35.514033Z"
    }
   },
   "outputs": [
    {
     "data": {
      "text/plain": [
       "5"
      ]
     },
     "execution_count": 256,
     "metadata": {},
     "output_type": "execute_result"
    }
   ],
   "source": [
    "a"
   ]
  },
  {
   "cell_type": "code",
   "execution_count": 261,
   "id": "66c019c4",
   "metadata": {
    "ExecuteTime": {
     "end_time": "2021-07-17T12:02:58.279045Z",
     "start_time": "2021-07-17T12:02:58.263060Z"
    }
   },
   "outputs": [
    {
     "data": {
      "text/plain": [
       "5"
      ]
     },
     "execution_count": 261,
     "metadata": {},
     "output_type": "execute_result"
    }
   ],
   "source": [
    "2 + (3)"
   ]
  },
  {
   "cell_type": "code",
   "execution_count": 262,
   "id": "a490d1e5",
   "metadata": {
    "ExecuteTime": {
     "end_time": "2021-07-17T12:03:36.100504Z",
     "start_time": "2021-07-17T12:03:36.093523Z"
    }
   },
   "outputs": [
    {
     "data": {
      "text/plain": [
       "[1, 2]"
      ]
     },
     "execution_count": 262,
     "metadata": {},
     "output_type": "execute_result"
    }
   ],
   "source": [
    "list1 = [1,2,]\n",
    "list1"
   ]
  },
  {
   "cell_type": "code",
   "execution_count": 263,
   "id": "6075bbd1",
   "metadata": {
    "ExecuteTime": {
     "end_time": "2021-07-17T12:03:57.214071Z",
     "start_time": "2021-07-17T12:03:57.211078Z"
    }
   },
   "outputs": [
    {
     "data": {
      "text/plain": [
       "[1, 2]"
      ]
     },
     "execution_count": 263,
     "metadata": {},
     "output_type": "execute_result"
    }
   ],
   "source": [
    "list1"
   ]
  },
  {
   "cell_type": "code",
   "execution_count": 264,
   "id": "72dba437",
   "metadata": {
    "ExecuteTime": {
     "end_time": "2021-07-17T12:04:09.855641Z",
     "start_time": "2021-07-17T12:04:09.842676Z"
    }
   },
   "outputs": [],
   "source": [
    "list1+= [3,4]"
   ]
  },
  {
   "cell_type": "code",
   "execution_count": 265,
   "id": "2b8fa05a",
   "metadata": {
    "ExecuteTime": {
     "end_time": "2021-07-17T12:04:13.468636Z",
     "start_time": "2021-07-17T12:04:13.451680Z"
    }
   },
   "outputs": [
    {
     "data": {
      "text/plain": [
       "[1, 2, 3, 4]"
      ]
     },
     "execution_count": 265,
     "metadata": {},
     "output_type": "execute_result"
    }
   ],
   "source": [
    "list1"
   ]
  },
  {
   "cell_type": "code",
   "execution_count": 272,
   "id": "aec62024",
   "metadata": {
    "ExecuteTime": {
     "end_time": "2021-07-17T12:12:22.856389Z",
     "start_time": "2021-07-17T12:12:22.848411Z"
    }
   },
   "outputs": [
    {
     "data": {
      "text/plain": [
       "{0, 1, 2, '2.4', '3', 32, 4, 5, 6, 7, 'True'}"
      ]
     },
     "execution_count": 272,
     "metadata": {},
     "output_type": "execute_result"
    }
   ],
   "source": [
    "s = { 1,1,1,1,1,1,1,1,1,1 , 0, 32,2,4,7,5,6 , \"3\", \"2.4\", \"True\" }\n",
    "s"
   ]
  },
  {
   "cell_type": "code",
   "execution_count": 273,
   "id": "f00682f9",
   "metadata": {
    "ExecuteTime": {
     "end_time": "2021-07-17T12:12:37.388925Z",
     "start_time": "2021-07-17T12:12:37.376958Z"
    }
   },
   "outputs": [],
   "source": [
    "s.add(3)"
   ]
  },
  {
   "cell_type": "code",
   "execution_count": 274,
   "id": "2aa63ba9",
   "metadata": {
    "ExecuteTime": {
     "end_time": "2021-07-17T12:12:39.197679Z",
     "start_time": "2021-07-17T12:12:39.188704Z"
    }
   },
   "outputs": [
    {
     "data": {
      "text/plain": [
       "{0, 1, 2, '2.4', 3, '3', 32, 4, 5, 6, 7, 'True'}"
      ]
     },
     "execution_count": 274,
     "metadata": {},
     "output_type": "execute_result"
    }
   ],
   "source": [
    "s"
   ]
  },
  {
   "cell_type": "code",
   "execution_count": 283,
   "id": "7d23cd47",
   "metadata": {
    "ExecuteTime": {
     "end_time": "2021-07-17T12:14:56.451468Z",
     "start_time": "2021-07-17T12:14:56.448476Z"
    }
   },
   "outputs": [],
   "source": [
    "s = {1,3,4}\n",
    "s.add(2)"
   ]
  },
  {
   "cell_type": "code",
   "execution_count": 276,
   "id": "f382afdc",
   "metadata": {
    "ExecuteTime": {
     "end_time": "2021-07-17T12:13:23.523698Z",
     "start_time": "2021-07-17T12:13:23.515724Z"
    }
   },
   "outputs": [
    {
     "data": {
      "text/plain": [
       "{1, 2, 3, 4}"
      ]
     },
     "execution_count": 276,
     "metadata": {},
     "output_type": "execute_result"
    }
   ],
   "source": [
    "s"
   ]
  },
  {
   "cell_type": "code",
   "execution_count": 277,
   "id": "0c58d9d3",
   "metadata": {
    "ExecuteTime": {
     "end_time": "2021-07-17T12:13:40.155433Z",
     "start_time": "2021-07-17T12:13:40.143466Z"
    }
   },
   "outputs": [
    {
     "data": {
      "text/plain": [
       "1"
      ]
     },
     "execution_count": 277,
     "metadata": {},
     "output_type": "execute_result"
    }
   ],
   "source": [
    "s.pop()"
   ]
  },
  {
   "cell_type": "code",
   "execution_count": 278,
   "id": "7850f564",
   "metadata": {
    "ExecuteTime": {
     "end_time": "2021-07-17T12:13:43.592012Z",
     "start_time": "2021-07-17T12:13:43.576054Z"
    }
   },
   "outputs": [
    {
     "data": {
      "text/plain": [
       "{2, 3, 4}"
      ]
     },
     "execution_count": 278,
     "metadata": {},
     "output_type": "execute_result"
    }
   ],
   "source": [
    "s"
   ]
  },
  {
   "cell_type": "code",
   "execution_count": 279,
   "id": "f88672ff",
   "metadata": {
    "ExecuteTime": {
     "end_time": "2021-07-17T12:14:10.162063Z",
     "start_time": "2021-07-17T12:14:10.152090Z"
    }
   },
   "outputs": [],
   "source": [
    "s.remove(4)"
   ]
  },
  {
   "cell_type": "code",
   "execution_count": 280,
   "id": "2a3d3848",
   "metadata": {
    "ExecuteTime": {
     "end_time": "2021-07-17T12:14:11.933993Z",
     "start_time": "2021-07-17T12:14:11.920031Z"
    }
   },
   "outputs": [
    {
     "data": {
      "text/plain": [
       "{2, 3}"
      ]
     },
     "execution_count": 280,
     "metadata": {},
     "output_type": "execute_result"
    }
   ],
   "source": [
    "s"
   ]
  },
  {
   "cell_type": "code",
   "execution_count": 282,
   "id": "b34b0a45",
   "metadata": {
    "ExecuteTime": {
     "end_time": "2021-07-17T12:14:51.815557Z",
     "start_time": "2021-07-17T12:14:51.798603Z"
    }
   },
   "outputs": [
    {
     "data": {
      "text/plain": [
       "2"
      ]
     },
     "execution_count": 282,
     "metadata": {},
     "output_type": "execute_result"
    }
   ],
   "source": [
    "s.pop()"
   ]
  },
  {
   "cell_type": "code",
   "execution_count": 284,
   "id": "e952c7cb",
   "metadata": {
    "ExecuteTime": {
     "end_time": "2021-07-17T12:15:00.254103Z",
     "start_time": "2021-07-17T12:15:00.247130Z"
    }
   },
   "outputs": [
    {
     "data": {
      "text/plain": [
       "{1, 2, 3, 4}"
      ]
     },
     "execution_count": 284,
     "metadata": {},
     "output_type": "execute_result"
    }
   ],
   "source": [
    "s"
   ]
  },
  {
   "cell_type": "code",
   "execution_count": 285,
   "id": "cb440998",
   "metadata": {
    "ExecuteTime": {
     "end_time": "2021-07-17T12:15:34.154086Z",
     "start_time": "2021-07-17T12:15:34.149099Z"
    }
   },
   "outputs": [
    {
     "data": {
      "text/plain": [
       "{'1', 2, 3, 4}"
      ]
     },
     "execution_count": 285,
     "metadata": {},
     "output_type": "execute_result"
    }
   ],
   "source": [
    "s.remove(1)\n",
    "s.add(\"1\")\n",
    "s"
   ]
  },
  {
   "cell_type": "code",
   "execution_count": 286,
   "id": "83268b64",
   "metadata": {
    "ExecuteTime": {
     "end_time": "2021-07-17T12:16:33.591366Z",
     "start_time": "2021-07-17T12:16:33.576406Z"
    }
   },
   "outputs": [
    {
     "data": {
      "text/plain": [
       "2"
      ]
     },
     "execution_count": 286,
     "metadata": {},
     "output_type": "execute_result"
    }
   ],
   "source": [
    "s.pop()\n"
   ]
  },
  {
   "cell_type": "code",
   "execution_count": 287,
   "id": "8f596723",
   "metadata": {
    "ExecuteTime": {
     "end_time": "2021-07-17T12:16:35.645737Z",
     "start_time": "2021-07-17T12:16:35.632772Z"
    }
   },
   "outputs": [
    {
     "data": {
      "text/plain": [
       "{'1', 3, 4}"
      ]
     },
     "execution_count": 287,
     "metadata": {},
     "output_type": "execute_result"
    }
   ],
   "source": [
    "s"
   ]
  },
  {
   "cell_type": "code",
   "execution_count": 314,
   "id": "8f129ea0",
   "metadata": {
    "ExecuteTime": {
     "end_time": "2021-07-17T12:29:33.742952Z",
     "start_time": "2021-07-17T12:29:33.726995Z"
    }
   },
   "outputs": [],
   "source": [
    "contact = { \"Name\" : \"Ahmed\", \"Age\": 23 , \"mail\": \"ahmed@gmail.com\", \"favoriteClubs\": [\"Ahly\", \"Madrid\"], \"Single\": True}"
   ]
  },
  {
   "cell_type": "code",
   "execution_count": 298,
   "id": "cf87315d",
   "metadata": {
    "ExecuteTime": {
     "end_time": "2021-07-17T12:25:19.825334Z",
     "start_time": "2021-07-17T12:25:19.816358Z"
    }
   },
   "outputs": [
    {
     "data": {
      "text/plain": [
       "'Madrid'"
      ]
     },
     "execution_count": 298,
     "metadata": {},
     "output_type": "execute_result"
    }
   ],
   "source": [
    "contact[\"favoriteClubs\"][1]"
   ]
  },
  {
   "cell_type": "code",
   "execution_count": 301,
   "id": "f13e14d8",
   "metadata": {
    "ExecuteTime": {
     "end_time": "2021-07-17T12:26:16.622383Z",
     "start_time": "2021-07-17T12:26:16.618394Z"
    }
   },
   "outputs": [
    {
     "data": {
      "text/plain": [
       "True"
      ]
     },
     "execution_count": 301,
     "metadata": {},
     "output_type": "execute_result"
    }
   ],
   "source": [
    "contact[\"Single\"]"
   ]
  },
  {
   "cell_type": "code",
   "execution_count": 307,
   "id": "1a342688",
   "metadata": {
    "ExecuteTime": {
     "end_time": "2021-07-17T12:27:44.607553Z",
     "start_time": "2021-07-17T12:27:44.602576Z"
    }
   },
   "outputs": [
    {
     "data": {
      "text/plain": [
       "'Ahmed'"
      ]
     },
     "execution_count": 307,
     "metadata": {},
     "output_type": "execute_result"
    }
   ],
   "source": [
    "contact.pop(\"Name\")"
   ]
  },
  {
   "cell_type": "code",
   "execution_count": 308,
   "id": "337a97c1",
   "metadata": {
    "ExecuteTime": {
     "end_time": "2021-07-17T12:27:49.670237Z",
     "start_time": "2021-07-17T12:27:49.653283Z"
    }
   },
   "outputs": [
    {
     "data": {
      "text/plain": [
       "{'Age': 23,\n",
       " 'mail': 'ahmed@gmail.com',\n",
       " 'favoriteClubs': ['Ahly', 'Madrid'],\n",
       " 'Single': True}"
      ]
     },
     "execution_count": 308,
     "metadata": {},
     "output_type": "execute_result"
    }
   ],
   "source": [
    "contact"
   ]
  },
  {
   "cell_type": "code",
   "execution_count": 321,
   "id": "7b5a5c0e",
   "metadata": {
    "ExecuteTime": {
     "end_time": "2021-07-17T12:31:28.228251Z",
     "start_time": "2021-07-17T12:31:28.221271Z"
    },
    "scrolled": true
   },
   "outputs": [
    {
     "data": {
      "text/plain": [
       "{'Name': 'Ahmed',\n",
       " 'Age': 23,\n",
       " 'mail': 'ahmed@gmail.com',\n",
       " 'favoriteClubs': ['Ahly', 'Madrid'],\n",
       " 'Single': True}"
      ]
     },
     "execution_count": 321,
     "metadata": {},
     "output_type": "execute_result"
    }
   ],
   "source": [
    "contact"
   ]
  },
  {
   "cell_type": "code",
   "execution_count": 322,
   "id": "3531c793",
   "metadata": {
    "ExecuteTime": {
     "end_time": "2021-07-17T12:31:42.575467Z",
     "start_time": "2021-07-17T12:31:42.558513Z"
    }
   },
   "outputs": [],
   "source": [
    "contact[\"Job\"] = \"Ai Engineer\""
   ]
  },
  {
   "cell_type": "code",
   "execution_count": 323,
   "id": "0fcf8ba9",
   "metadata": {
    "ExecuteTime": {
     "end_time": "2021-07-17T12:31:46.681633Z",
     "start_time": "2021-07-17T12:31:46.676647Z"
    }
   },
   "outputs": [
    {
     "data": {
      "text/plain": [
       "{'Name': 'Ahmed',\n",
       " 'Age': 23,\n",
       " 'mail': 'ahmed@gmail.com',\n",
       " 'favoriteClubs': ['Ahly', 'Madrid'],\n",
       " 'Single': True,\n",
       " 'Job': 'Ai Engineer'}"
      ]
     },
     "execution_count": 323,
     "metadata": {},
     "output_type": "execute_result"
    }
   ],
   "source": [
    "contact"
   ]
  },
  {
   "cell_type": "code",
   "execution_count": 328,
   "id": "09b61273",
   "metadata": {
    "ExecuteTime": {
     "end_time": "2021-07-17T12:33:28.967103Z",
     "start_time": "2021-07-17T12:33:28.956134Z"
    }
   },
   "outputs": [
    {
     "data": {
      "text/plain": [
       "'Ahmed'"
      ]
     },
     "execution_count": 328,
     "metadata": {},
     "output_type": "execute_result"
    }
   ],
   "source": [
    "contact.setdefault(\"Name\")"
   ]
  },
  {
   "cell_type": "code",
   "execution_count": 331,
   "id": "2151dff3",
   "metadata": {
    "ExecuteTime": {
     "end_time": "2021-07-17T12:50:16.008664Z",
     "start_time": "2021-07-17T12:50:15.990711Z"
    }
   },
   "outputs": [
    {
     "data": {
      "text/plain": [
       "[1, 3, 4, 5, [1, 23], 2, 4, 2]"
      ]
     },
     "execution_count": 331,
     "metadata": {},
     "output_type": "execute_result"
    }
   ],
   "source": [
    "x = list(x)\n",
    "x"
   ]
  },
  {
   "cell_type": "code",
   "execution_count": 332,
   "id": "77dfd7da",
   "metadata": {
    "ExecuteTime": {
     "end_time": "2021-07-17T12:50:21.481738Z",
     "start_time": "2021-07-17T12:50:21.468771Z"
    }
   },
   "outputs": [
    {
     "data": {
      "text/plain": [
       "[1, 3, 4, 5, [1, 23], 2, 4, 2]"
      ]
     },
     "execution_count": 332,
     "metadata": {},
     "output_type": "execute_result"
    }
   ],
   "source": [
    "x"
   ]
  },
  {
   "cell_type": "code",
   "execution_count": 342,
   "id": "1ebd3087",
   "metadata": {
    "ExecuteTime": {
     "end_time": "2021-07-17T12:57:41.701507Z",
     "start_time": "2021-07-17T12:57:41.690536Z"
    }
   },
   "outputs": [
    {
     "data": {
      "text/plain": [
       "[1, 3, 4, 5, [1, 23], 2, 4, 2]"
      ]
     },
     "execution_count": 342,
     "metadata": {},
     "output_type": "execute_result"
    }
   ],
   "source": [
    "x"
   ]
  },
  {
   "cell_type": "code",
   "execution_count": 345,
   "id": "9b8efaaa",
   "metadata": {
    "ExecuteTime": {
     "end_time": "2021-07-17T13:00:05.587718Z",
     "start_time": "2021-07-17T13:00:05.577746Z"
    }
   },
   "outputs": [
    {
     "name": "stdout",
     "output_type": "stream",
     "text": [
      "1\n",
      "3\n",
      "4\n",
      "5\n",
      "[1, 23]\n",
      "2\n",
      "4\n",
      "2\n"
     ]
    }
   ],
   "source": [
    "for i in x: \n",
    "    print(i)\n",
    "    if i == 1: \n",
    "        i = 7"
   ]
  },
  {
   "cell_type": "code",
   "execution_count": 347,
   "id": "984d36a6",
   "metadata": {
    "ExecuteTime": {
     "end_time": "2021-07-17T13:01:30.155110Z",
     "start_time": "2021-07-17T13:01:30.139154Z"
    }
   },
   "outputs": [
    {
     "data": {
      "text/plain": [
       "[7, 3, 4, 5, [1, 23], 2, 4, 2]"
      ]
     },
     "execution_count": 347,
     "metadata": {},
     "output_type": "execute_result"
    }
   ],
   "source": [
    "for i in range (len(x)):\n",
    "    if x[i] == 1:\n",
    "        x[i] = 7\n",
    "x"
   ]
  },
  {
   "cell_type": "code",
   "execution_count": 349,
   "id": "15cb171d",
   "metadata": {
    "ExecuteTime": {
     "end_time": "2021-07-17T13:04:08.225451Z",
     "start_time": "2021-07-17T13:04:08.220464Z"
    }
   },
   "outputs": [
    {
     "data": {
      "text/plain": [
       "0"
      ]
     },
     "execution_count": 349,
     "metadata": {},
     "output_type": "execute_result"
    }
   ],
   "source": [
    "x = [ 1 ,1 , 2, 3, 1, 3,4]\n",
    "counter = 0 \n",
    "for i in x:\n",
    "    if i == 1:\n",
    "        counter+=1\n",
    "    if i == 4: \n",
    "        counter =0 \n",
    "counter    "
   ]
  },
  {
   "cell_type": "code",
   "execution_count": 354,
   "id": "9d1c99b6",
   "metadata": {
    "ExecuteTime": {
     "end_time": "2021-07-17T13:11:04.602647Z",
     "start_time": "2021-07-17T13:11:04.587688Z"
    }
   },
   "outputs": [
    {
     "data": {
      "text/plain": [
       "2"
      ]
     },
     "execution_count": 354,
     "metadata": {},
     "output_type": "execute_result"
    }
   ],
   "source": [
    "x = [1,[1,2]]\n",
    "counter = 0\n",
    "for i in x:\n",
    "    if (i == 1):\n",
    "        counter+=1\n",
    "    if (type(i) == list):\n",
    "        for j in i: \n",
    "            if j == 1:\n",
    "                counter+=1\n",
    "counter"
   ]
  },
  {
   "cell_type": "code",
   "execution_count": 355,
   "id": "79ee6475",
   "metadata": {
    "ExecuteTime": {
     "end_time": "2021-07-17T13:11:26.090763Z",
     "start_time": "2021-07-17T13:11:26.073809Z"
    }
   },
   "outputs": [
    {
     "data": {
      "text/plain": [
       "[1, [1, 2]]"
      ]
     },
     "execution_count": 355,
     "metadata": {},
     "output_type": "execute_result"
    }
   ],
   "source": [
    "x"
   ]
  },
  {
   "cell_type": "code",
   "execution_count": 356,
   "id": "26698e59",
   "metadata": {
    "ExecuteTime": {
     "end_time": "2021-07-17T13:12:23.701962Z",
     "start_time": "2021-07-17T13:12:23.696974Z"
    }
   },
   "outputs": [
    {
     "data": {
      "text/plain": [
       "1"
      ]
     },
     "execution_count": 356,
     "metadata": {},
     "output_type": "execute_result"
    }
   ],
   "source": [
    "counter = 0 \n",
    "i = 0 \n",
    "while (i < len(x)):\n",
    "    if (x[i] == 1):\n",
    "        counter+=1\n",
    "    i+=1    \n",
    "counter"
   ]
  },
  {
   "cell_type": "code",
   "execution_count": null,
   "id": "c383dd3e",
   "metadata": {},
   "outputs": [],
   "source": []
  },
  {
   "cell_type": "code",
   "execution_count": null,
   "id": "c334d527",
   "metadata": {},
   "outputs": [],
   "source": []
  }
 ],
 "metadata": {
  "kernelspec": {
   "display_name": "Python 3",
   "language": "python",
   "name": "python3"
  },
  "language_info": {
   "codemirror_mode": {
    "name": "ipython",
    "version": 3
   },
   "file_extension": ".py",
   "mimetype": "text/x-python",
   "name": "python",
   "nbconvert_exporter": "python",
   "pygments_lexer": "ipython3",
   "version": "3.8.5"
  },
  "toc": {
   "base_numbering": 1,
   "nav_menu": {},
   "number_sections": true,
   "sideBar": true,
   "skip_h1_title": false,
   "title_cell": "Table of Contents",
   "title_sidebar": "Contents",
   "toc_cell": false,
   "toc_position": {},
   "toc_section_display": true,
   "toc_window_display": false
  },
  "varInspector": {
   "cols": {
    "lenName": 16,
    "lenType": 16,
    "lenVar": 40
   },
   "kernels_config": {
    "python": {
     "delete_cmd_postfix": "",
     "delete_cmd_prefix": "del ",
     "library": "var_list.py",
     "varRefreshCmd": "print(var_dic_list())"
    },
    "r": {
     "delete_cmd_postfix": ") ",
     "delete_cmd_prefix": "rm(",
     "library": "var_list.r",
     "varRefreshCmd": "cat(var_dic_list()) "
    }
   },
   "types_to_exclude": [
    "module",
    "function",
    "builtin_function_or_method",
    "instance",
    "_Feature"
   ],
   "window_display": false
  }
 },
 "nbformat": 4,
 "nbformat_minor": 5
}
